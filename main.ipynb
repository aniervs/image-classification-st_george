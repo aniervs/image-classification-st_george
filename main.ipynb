{
 "cells": [
  {
   "cell_type": "markdown",
   "source": [
    "# Intro"
   ],
   "metadata": {
    "collapsed": false
   }
  },
  {
   "cell_type": "markdown",
   "source": [
    "The task consists of classifying images into those that contain St. George and those that don't.\n",
    "I will train several pre-trained models on the given data."
   ],
   "metadata": {
    "collapsed": false
   }
  },
  {
   "cell_type": "markdown",
   "source": [
    "# Data Exploration"
   ],
   "metadata": {
    "collapsed": false
   }
  },
  {
   "cell_type": "markdown",
   "source": [
    "Let's take a look at the images"
   ],
   "metadata": {
    "collapsed": false
   }
  },
  {
   "cell_type": "code",
   "execution_count": null,
   "metadata": {
    "collapsed": true
   },
   "outputs": [],
   "source": [
    "import pandas as pd\n",
    "import requests\n",
    "import itertools\n",
    "import torch\n",
    "import torch.nn as nn, torch.optim as optim\n",
    "from torchvision import models, transforms, datasets\n",
    "import albumentations as alb\n",
    "import albumentations.augmentations.transforms as aat\n",
    "import numpy as np\n",
    "from PIL import Image\n",
    "from sklearn.model_selection import train_test_split\n",
    "from tqdm import tqdm"
   ]
  },
  {
   "cell_type": "code",
   "execution_count": null,
   "outputs": [],
   "source": [
    "df_george = pd.read_csv(\"./image_urls/georges.csv\")\n",
    "df_george.head()"
   ],
   "metadata": {
    "collapsed": false
   }
  },
  {
   "cell_type": "code",
   "execution_count": null,
   "outputs": [],
   "source": [
    "df_non_george = pd.read_csv(\"./image_urls/non_georges.csv\")\n",
    "df_non_george.head()"
   ],
   "metadata": {
    "collapsed": false
   }
  },
  {
   "cell_type": "code",
   "execution_count": null,
   "outputs": [],
   "source": [
    "george_links = set(itertools.chain(*pd.read_csv(\"./image_urls/georges.csv\").values.tolist()))\n",
    "non_george_links = set(itertools.chain(*pd.read_csv(\"./image_urls/non_georges.csv\").values.tolist()))"
   ],
   "metadata": {
    "collapsed": false
   }
  },
  {
   "cell_type": "markdown",
   "source": [
    "Let's check if there are some bad photos, (photos both classified as george appearing and george not appearing)."
   ],
   "metadata": {
    "collapsed": false
   }
  },
  {
   "cell_type": "code",
   "execution_count": null,
   "outputs": [],
   "source": [
    "miss_labeled = george_links.intersection(non_george_links)\n",
    "miss_labeled"
   ],
   "metadata": {
    "collapsed": false
   }
  },
  {
   "cell_type": "markdown",
   "source": [
    "We can notice there are few links in both classes. Let's ignore these links"
   ],
   "metadata": {
    "collapsed": false
   }
  },
  {
   "cell_type": "code",
   "execution_count": null,
   "outputs": [],
   "source": [
    "george_links.difference_update(miss_labeled)\n",
    "non_george_links.difference_update(miss_labeled)\n",
    "\n",
    "assert len(set(george_links).intersection(set(non_george_links))) == 0"
   ],
   "metadata": {
    "collapsed": false
   }
  },
  {
   "cell_type": "code",
   "execution_count": null,
   "outputs": [],
   "source": [
    "len(george_links), len(non_george_links)"
   ],
   "metadata": {
    "collapsed": false
   }
  },
  {
   "cell_type": "code",
   "execution_count": null,
   "outputs": [],
   "source": [
    "data = []\n",
    "for link in george_links:\n",
    "    data.append([link, 0])\n",
    "for link in non_george_links:\n",
    "    data.append([link, 1])\n",
    "data = np.array(data)\n",
    "data.shape"
   ],
   "metadata": {
    "collapsed": false
   }
  },
  {
   "cell_type": "markdown",
   "source": [
    "### Let's now save"
   ],
   "metadata": {
    "collapsed": false
   }
  },
  {
   "cell_type": "code",
   "execution_count": null,
   "outputs": [],
   "source": [
    "! mkdir data\n",
    "! mkdir data/train\n",
    "! mkdir data/test\n",
    "! mkdir data/train/george\n",
    "! mkdir data/train/non_george\n",
    "! mkdir data/test/george\n",
    "! mkdir data/test/non_george"
   ],
   "metadata": {
    "collapsed": false
   }
  },
  {
   "cell_type": "code",
   "execution_count": null,
   "outputs": [],
   "source": [
    "def save_image(path: str, url: str, idx: int) -> None:\n",
    "    response = requests.get(url)\n",
    "    if response.status_code == 200:\n",
    "        image_data = response.content\n",
    "        with open(f\"{path}/img_{idx}.jpg\", 'wb') as file:\n",
    "            file.write(image_data)"
   ],
   "metadata": {
    "collapsed": false
   }
  },
  {
   "cell_type": "code",
   "execution_count": null,
   "outputs": [],
   "source": [
    "train_data, test_data = train_test_split(data, random_state=42)"
   ],
   "metadata": {
    "collapsed": false
   }
  },
  {
   "cell_type": "code",
   "execution_count": null,
   "outputs": [],
   "source": [
    "for idx, (link, label) in enumerate(train_data):\n",
    "    if label == '0':\n",
    "        save_image(path='data/train/george', url=link, idx=idx)\n",
    "    elif label == '1':\n",
    "        save_image(path='data/train/non_george', url=link, idx=idx)"
   ],
   "metadata": {
    "collapsed": false
   }
  },
  {
   "cell_type": "code",
   "execution_count": null,
   "outputs": [],
   "source": [
    "for idx, (link, label) in enumerate(test_data):\n",
    "    if label == '0':\n",
    "        save_image(path='data/test/george', url=link, idx=idx)\n",
    "    elif label == '1':\n",
    "        save_image(path='data/test/non_george', url=link, idx=idx)"
   ],
   "metadata": {
    "collapsed": false
   }
  },
  {
   "cell_type": "markdown",
   "source": [
    "# Loading and Augmenting Data"
   ],
   "metadata": {
    "collapsed": false
   }
  },
  {
   "cell_type": "markdown",
   "source": [
    "Let's load the data!"
   ],
   "metadata": {
    "collapsed": false
   }
  },
  {
   "cell_type": "code",
   "execution_count": null,
   "outputs": [],
   "source": [
    "transform = transforms.Compose([transforms.Resize(255),\n",
    "                                transforms.CenterCrop(224),\n",
    "                                transforms.ToTensor(),\n",
    "                                transforms.Normalize((0.5,0.5,0.5), (0.5,0.5,0.5))])"
   ],
   "metadata": {
    "collapsed": false
   }
  },
  {
   "cell_type": "code",
   "execution_count": null,
   "outputs": [],
   "source": [
    "class AlbuWrapper:  # typing: ignore\n",
    "    def __init__(self, atrans: alb.BasicTransform):\n",
    "        self.atrans = atrans\n",
    "\n",
    "    def __call__(self, img: Image.Image) -> Image.Image:\n",
    "        return self.atrans(image=np.array(img))[\"image\"]"
   ],
   "metadata": {
    "collapsed": false
   }
  },
  {
   "cell_type": "code",
   "execution_count": null,
   "outputs": [],
   "source": [
    "alb_transforms = alb.Compose(\n",
    "    [\n",
    "        alb.GaussNoise(),\n",
    "        alb.OneOf(\n",
    "            [alb.MotionBlur(p=0.2), alb.MedianBlur(blur_limit=3, p=0.1), alb.Blur(blur_limit=3, p=0.1)], p=0.2\n",
    "        ),\n",
    "        alb.OneOf([alb.OpticalDistortion(p=0.3), alb.GridDistortion(p=0.1), alb.PiecewiseAffine(p=0.3)], p=0.2),\n",
    "        alb.OneOf([aat.CLAHE(clip_limit=2), alb.Sharpen(), alb.Emboss()], p=0.3),\n",
    "        aat.HueSaturationValue(p=0.3),\n",
    "        alb.HorizontalFlip(),\n",
    "        aat.RGBShift(),\n",
    "        aat.RandomBrightnessContrast(),\n",
    "        aat.RandomGamma(),\n",
    "        alb.CoarseDropout(2, 10, 10)\n",
    "    ])"
   ],
   "metadata": {
    "collapsed": false
   }
  },
  {
   "cell_type": "code",
   "execution_count": null,
   "outputs": [],
   "source": [
    "train_transforms = transforms.Compose(\n",
    "    [AlbuWrapper(alb_transforms), transform])\n",
    "test_transforms = transform"
   ],
   "metadata": {
    "collapsed": false
   }
  },
  {
   "cell_type": "code",
   "execution_count": null,
   "outputs": [],
   "source": [
    "toPIL = transforms.ToPILImage()"
   ],
   "metadata": {
    "collapsed": false
   }
  },
  {
   "cell_type": "code",
   "execution_count": null,
   "outputs": [],
   "source": [
    "train_dataset = datasets.ImageFolder('./data/train', transform=transform)\n",
    "train_loader = torch.utils.data.DataLoader(train_dataset, batch_size=64, shuffle=True)\n",
    "\n",
    "test_dataset = datasets.ImageFolder('./data/test', transform=transform)\n",
    "test_loader = torch.utils.data.DataLoader(test_dataset, batch_size=64, shuffle=True)"
   ],
   "metadata": {
    "collapsed": false
   }
  },
  {
   "cell_type": "code",
   "execution_count": null,
   "outputs": [],
   "source": [
    "toPIL(next(iter(train_loader))[0][0][0])"
   ],
   "metadata": {
    "collapsed": false
   }
  },
  {
   "cell_type": "markdown",
   "source": [
    "# Training"
   ],
   "metadata": {
    "collapsed": false
   }
  },
  {
   "cell_type": "markdown",
   "source": [
    "Let's use a pretrained VGG16 model, and retrain it on our data."
   ],
   "metadata": {
    "collapsed": false
   }
  },
  {
   "cell_type": "code",
   "execution_count": null,
   "outputs": [],
   "source": [
    "dtype = torch.float\n",
    "\n",
    "device_name = 'cpu'\n",
    "\n",
    "if torch.cuda.is_available(): # NVIDIA GPU\n",
    "    device_name = 'cuda'\n",
    "elif torch.backends.mps.is_available() and torch.backends.mps.is_built(): # Apple Silicon GPU\n",
    "    device_name = 'mps'\n",
    "\n",
    "device = torch.device(device_name)\n",
    "device"
   ],
   "metadata": {
    "collapsed": false
   }
  },
  {
   "cell_type": "code",
   "execution_count": null,
   "outputs": [],
   "source": [
    "vgg_16_pretrained = models.vgg16(weights = models.VGG16_Weights.DEFAULT)\n",
    "vgg_16_pretrained"
   ],
   "metadata": {
    "collapsed": false,
    "pycharm": {
     "is_executing": true
    }
   }
  },
  {
   "cell_type": "markdown",
   "source": [
    "Let's change the classifier to `output_features = 2`, as we're doing binary classification.\n",
    "Also, we can notice that the `avgpool` layer has an output size of `7x7`. Let's change it to 1, so that it takes less time to train."
   ],
   "metadata": {
    "collapsed": false
   }
  },
  {
   "cell_type": "code",
   "execution_count": null,
   "outputs": [],
   "source": [
    "vgg_16_pretrained.classifier = nn.Sequential(\n",
    "    nn.Linear(in_features=512, out_features=512, bias=True),\n",
    "    nn.ReLU(inplace=True),\n",
    "    nn.Dropout(p=0.5, inplace=False),\n",
    "    nn.Linear(in_features=512, out_features=512, bias=True),\n",
    "    nn.ReLU(inplace=True),\n",
    "    nn.Dropout(p=0.5, inplace=False),\n",
    "    nn.Linear(in_features=512, out_features=2, bias=True)\n",
    ")\n",
    "vgg_16_pretrained.avgpool = nn.AdaptiveAvgPool2d(output_size=(1,1))\n",
    "vgg_16_pretrained"
   ],
   "metadata": {
    "collapsed": false,
    "pycharm": {
     "is_executing": true
    }
   }
  },
  {
   "cell_type": "markdown",
   "source": [
    "Let's define our training and testing helpers."
   ],
   "metadata": {
    "collapsed": false
   }
  },
  {
   "cell_type": "code",
   "execution_count": null,
   "outputs": [],
   "source": [
    "def train(model, train_loader, optimizer, loss_function):\n",
    "    print('Training...')\n",
    "    model.train()\n",
    "    model = model.to(device)\n",
    "    loss_function = loss_function.to(device)\n",
    "    for batch_idx, (data, label) in tqdm(enumerate(train_loader)):\n",
    "        data = data.to(device)\n",
    "        label = label.to(device)\n",
    "        optimizer.zero_grad()\n",
    "        output = model(data)\n",
    "        loss = loss_function(output, label)\n",
    "        loss.backward()\n",
    "        optimizer.step()\n",
    "\n",
    "        if batch_idx % 10 == 0:\n",
    "            print('Train Epoch: {} [{}/{} ({:.0f}%)]\\tLoss: {:.6f}'.format(\n",
    "                epoch, batch_idx * len(data), len(train_loader.dataset),\n",
    "                       100. * batch_idx / len(train_loader), loss.item()))"
   ],
   "metadata": {
    "collapsed": false
   }
  },
  {
   "cell_type": "code",
   "execution_count": null,
   "outputs": [],
   "source": [
    "def test(model, test_loader, loss_function):\n",
    "    print(f'Validating ...')\n",
    "    model.eval()\n",
    "\n",
    "    test_loss = 0\n",
    "    num_correct = 0\n",
    "    cnt = 0\n",
    "\n",
    "    model = model.to(device=device)\n",
    "    loss_function = loss_function.to(device=device)\n",
    "\n",
    "    with torch.no_grad():\n",
    "        for data, label in tqdm(test_loader):\n",
    "            data = data.to(device=device)\n",
    "            label = label.to(device=device)\n",
    "            output = model(data)\n",
    "            test_loss += loss_function(output, label).item()\n",
    "            pred = output.argmax(dim=1, keepdim=True)\n",
    "            num_correct += pred.eq(label.view_as(pred)).sum().item()\n",
    "            cnt += 1\n",
    "\n",
    "    test_loss /= cnt\n",
    "\n",
    "    print('\\nTest set: Average loss: {:.4f}, Accuracy: {}/{} ({:.0f}%)\\n'.format(\n",
    "        test_loss, num_correct, len(test_loader.dataset),\n",
    "        100. * num_correct / len(test_loader.dataset)))"
   ],
   "metadata": {
    "collapsed": false
   }
  },
  {
   "cell_type": "markdown",
   "source": [
    "For training, we'll first freeze the first few layers of the feature extractor.\n",
    "And later on, we'll unfreeze them and continue training."
   ],
   "metadata": {
    "collapsed": false
   }
  },
  {
   "cell_type": "code",
   "execution_count": null,
   "outputs": [],
   "source": [
    "criterion = nn.CrossEntropyLoss()\n",
    "criterion = criterion.to(device)\n",
    "vgg_16_pretrained = vgg_16_pretrained.to(device)"
   ],
   "metadata": {
    "collapsed": false
   }
  },
  {
   "cell_type": "code",
   "execution_count": null,
   "outputs": [],
   "source": [
    "for layer in vgg_16_pretrained.features[0:19]:\n",
    "    for p in layer.parameters():\n",
    "        p.requires_grad = False\n",
    "\n",
    "optimizer = optim.Adam(params=vgg_16_pretrained.parameters(), lr=1e-4)\n",
    "\n",
    "for epoch in range(0, 30):\n",
    "    train(model=vgg_16_pretrained, train_loader=train_loader, optimizer=optimizer, loss_function=criterion)\n",
    "    test(model=vgg_16_pretrained, test_loader=test_loader, loss_function=criterion)"
   ],
   "metadata": {
    "collapsed": false,
    "pycharm": {
     "is_executing": true
    }
   }
  },
  {
   "cell_type": "markdown",
   "source": [
    "We end up with $\\approx$ 90% accuracy. Nice! Let's save the model at this state."
   ],
   "metadata": {
    "collapsed": false
   }
  },
  {
   "cell_type": "code",
   "execution_count": null,
   "outputs": [],
   "source": [
    "! mkdir checkpoints"
   ],
   "metadata": {
    "collapsed": false
   }
  },
  {
   "cell_type": "code",
   "execution_count": null,
   "outputs": [],
   "source": [
    "state = {\"model_state\": vgg_16_pretrained.state_dict(),\"optimizer_state\": optimizer.state_dict(),\"freeze\":True}\n",
    "torch.save(state['model_state'], \"./checkpoints/conv_layers_frozen.pth\")"
   ],
   "metadata": {
    "collapsed": false
   }
  },
  {
   "cell_type": "code",
   "execution_count": null,
   "outputs": [],
   "source": [
    "test(vgg_16_pretrained, test_loader=test_loader, loss_function=criterion)"
   ],
   "metadata": {
    "collapsed": false,
    "pycharm": {
     "is_executing": true
    }
   }
  },
  {
   "cell_type": "code",
   "execution_count": 104,
   "outputs": [
    {
     "data": {
      "text/plain": "<All keys matched successfully>"
     },
     "execution_count": 104,
     "metadata": {},
     "output_type": "execute_result"
    }
   ],
   "source": [
    "model = vgg_16_pretrained\n",
    "model.load_state_dict(torch.load('./checkpoints/conv_layers_frozen.pth'))"
   ],
   "metadata": {
    "collapsed": false
   }
  },
  {
   "cell_type": "markdown",
   "source": [
    "# Classification metrics report"
   ],
   "metadata": {
    "collapsed": false
   }
  },
  {
   "cell_type": "code",
   "execution_count": null,
   "outputs": [
    {
     "name": "stderr",
     "output_type": "stream",
     "text": [
      " 26%|██▌       | 6/23 [00:13<00:42,  2.50s/it]"
     ]
    }
   ],
   "source": [
    "true_labels = torch.tensor([]).to(device=device)\n",
    "predicted_labels = torch.tensor([]).to(device=device)\n",
    "\n",
    "with torch.no_grad():\n",
    "    for data, label in tqdm(test_loader):\n",
    "        data = data.to(device=device)\n",
    "        label = label.to(device=device)\n",
    "        output = model(data)\n",
    "        pred = output.argmax(dim=1)\n",
    "        true_labels = torch.cat([true_labels, label])\n",
    "        predicted_labels = torch.cat([predicted_labels, pred])"
   ],
   "metadata": {
    "collapsed": false,
    "pycharm": {
     "is_executing": true
    }
   }
  },
  {
   "cell_type": "code",
   "execution_count": null,
   "outputs": [],
   "source": [
    "true_labels = np.array(true_labels.cpu())\n",
    "predicted_labels = np.array(predicted_labels.cpu())"
   ],
   "metadata": {
    "collapsed": false,
    "pycharm": {
     "is_executing": true
    }
   }
  },
  {
   "cell_type": "code",
   "execution_count": null,
   "outputs": [],
   "source": [
    "from sklearn.metrics import classification_report\n",
    "\n",
    "print(classification_report(y_true=true_labels, y_pred=predicted_labels))"
   ],
   "metadata": {
    "collapsed": false,
    "pycharm": {
     "is_executing": true
    }
   }
  }
 ],
 "metadata": {
  "kernelspec": {
   "display_name": "Python 3",
   "language": "python",
   "name": "python3"
  },
  "language_info": {
   "codemirror_mode": {
    "name": "ipython",
    "version": 2
   },
   "file_extension": ".py",
   "mimetype": "text/x-python",
   "name": "python",
   "nbconvert_exporter": "python",
   "pygments_lexer": "ipython2",
   "version": "2.7.6"
  }
 },
 "nbformat": 4,
 "nbformat_minor": 0
}
