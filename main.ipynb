{
 "cells": [
  {
   "cell_type": "markdown",
   "source": [
    "# Intro"
   ],
   "metadata": {
    "collapsed": false
   }
  },
  {
   "cell_type": "markdown",
   "source": [
    "The task consists of classifying images into those that contain St. George and those that don't.\n",
    "I will train several pre-trained models on the given data."
   ],
   "metadata": {
    "collapsed": false
   }
  },
  {
   "cell_type": "markdown",
   "source": [
    "# Data Exploration"
   ],
   "metadata": {
    "collapsed": false
   }
  },
  {
   "cell_type": "markdown",
   "source": [
    "Let's take a look at the images"
   ],
   "metadata": {
    "collapsed": false
   }
  },
  {
   "cell_type": "code",
   "execution_count": 1,
   "metadata": {
    "collapsed": true
   },
   "outputs": [],
   "source": [
    "import pandas as pd"
   ]
  },
  {
   "cell_type": "code",
   "execution_count": 4,
   "outputs": [
    {
     "data": {
      "text/plain": "  https://i.pinimg.com/736x/17/0d/5b/170d5b93d80d247be60f22ca1216bef7.jpg\n0  https://i.pinimg.com/736x/47/b9/9a/47b99a2ddcd...                     \n1  https://i.pinimg.com/736x/90/e8/90/90e890f054b...                     \n2  https://i.pinimg.com/736x/0a/71/6f/0a716f6f14e...                     \n3  https://i.pinimg.com/736x/f1/95/be/f195bea0b78...                     \n4  https://i.pinimg.com/736x/78/da/54/78da54b8fa9...                     ",
      "text/html": "<div>\n<style scoped>\n    .dataframe tbody tr th:only-of-type {\n        vertical-align: middle;\n    }\n\n    .dataframe tbody tr th {\n        vertical-align: top;\n    }\n\n    .dataframe thead th {\n        text-align: right;\n    }\n</style>\n<table border=\"1\" class=\"dataframe\">\n  <thead>\n    <tr style=\"text-align: right;\">\n      <th></th>\n      <th>https://i.pinimg.com/736x/17/0d/5b/170d5b93d80d247be60f22ca1216bef7.jpg</th>\n    </tr>\n  </thead>\n  <tbody>\n    <tr>\n      <th>0</th>\n      <td>https://i.pinimg.com/736x/47/b9/9a/47b99a2ddcd...</td>\n    </tr>\n    <tr>\n      <th>1</th>\n      <td>https://i.pinimg.com/736x/90/e8/90/90e890f054b...</td>\n    </tr>\n    <tr>\n      <th>2</th>\n      <td>https://i.pinimg.com/736x/0a/71/6f/0a716f6f14e...</td>\n    </tr>\n    <tr>\n      <th>3</th>\n      <td>https://i.pinimg.com/736x/f1/95/be/f195bea0b78...</td>\n    </tr>\n    <tr>\n      <th>4</th>\n      <td>https://i.pinimg.com/736x/78/da/54/78da54b8fa9...</td>\n    </tr>\n  </tbody>\n</table>\n</div>"
     },
     "execution_count": 4,
     "metadata": {},
     "output_type": "execute_result"
    }
   ],
   "source": [
    "df_george = pd.read_csv(\"./data/georges.csv\")\n",
    "df_george.head()"
   ],
   "metadata": {
    "collapsed": false
   }
  },
  {
   "cell_type": "code",
   "execution_count": 5,
   "outputs": [
    {
     "data": {
      "text/plain": "  https://i.pinimg.com/736x/fd/65/bb/fd65bb679b7975ab73867d62fba2e991.jpg\n0  https://i.pinimg.com/736x/78/63/a2/7863a2404af...                     \n1  https://i.pinimg.com/736x/bc/3a/f4/bc3af41444c...                     \n2  https://i.pinimg.com/736x/46/a3/59/46a3595eec7...                     \n3  https://i.pinimg.com/736x/54/b2/ef/54b2ef7af71...                     \n4  https://i.pinimg.com/736x/f6/f6/57/f6f6577d0cb...                     ",
      "text/html": "<div>\n<style scoped>\n    .dataframe tbody tr th:only-of-type {\n        vertical-align: middle;\n    }\n\n    .dataframe tbody tr th {\n        vertical-align: top;\n    }\n\n    .dataframe thead th {\n        text-align: right;\n    }\n</style>\n<table border=\"1\" class=\"dataframe\">\n  <thead>\n    <tr style=\"text-align: right;\">\n      <th></th>\n      <th>https://i.pinimg.com/736x/fd/65/bb/fd65bb679b7975ab73867d62fba2e991.jpg</th>\n    </tr>\n  </thead>\n  <tbody>\n    <tr>\n      <th>0</th>\n      <td>https://i.pinimg.com/736x/78/63/a2/7863a2404af...</td>\n    </tr>\n    <tr>\n      <th>1</th>\n      <td>https://i.pinimg.com/736x/bc/3a/f4/bc3af41444c...</td>\n    </tr>\n    <tr>\n      <th>2</th>\n      <td>https://i.pinimg.com/736x/46/a3/59/46a3595eec7...</td>\n    </tr>\n    <tr>\n      <th>3</th>\n      <td>https://i.pinimg.com/736x/54/b2/ef/54b2ef7af71...</td>\n    </tr>\n    <tr>\n      <th>4</th>\n      <td>https://i.pinimg.com/736x/f6/f6/57/f6f6577d0cb...</td>\n    </tr>\n  </tbody>\n</table>\n</div>"
     },
     "execution_count": 5,
     "metadata": {},
     "output_type": "execute_result"
    }
   ],
   "source": [
    "df_non_george = pd.read_csv(\"./data/non_georges.csv\")\n",
    "df_non_george.head()"
   ],
   "metadata": {
    "collapsed": false
   }
  },
  {
   "cell_type": "markdown",
   "source": [],
   "metadata": {
    "collapsed": false
   }
  },
  {
   "cell_type": "code",
   "execution_count": null,
   "outputs": [],
   "source": [],
   "metadata": {
    "collapsed": false
   }
  }
 ],
 "metadata": {
  "kernelspec": {
   "display_name": "Python 3",
   "language": "python",
   "name": "python3"
  },
  "language_info": {
   "codemirror_mode": {
    "name": "ipython",
    "version": 2
   },
   "file_extension": ".py",
   "mimetype": "text/x-python",
   "name": "python",
   "nbconvert_exporter": "python",
   "pygments_lexer": "ipython2",
   "version": "2.7.6"
  }
 },
 "nbformat": 4,
 "nbformat_minor": 0
}
